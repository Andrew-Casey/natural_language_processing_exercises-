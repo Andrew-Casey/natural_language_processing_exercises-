{
 "cells": [
  {
   "cell_type": "code",
   "execution_count": 3,
   "id": "f8d39d9f",
   "metadata": {},
   "outputs": [],
   "source": [
    "import pandas as pd\n",
    "import numpy as np\n",
    "\n",
    "import re"
   ]
  },
  {
   "cell_type": "markdown",
   "id": "b6538ced",
   "metadata": {},
   "source": [
    "# 1.\n",
    "Write a function named is_vowel. It should accept a string as input and use a regular expression to determine if the passed string is a vowel. While not explicity mentioned in the lesson, you can treat the result of re.search as a boolean value that indicates whether or not the regular expression matches the given string."
   ]
  },
  {
   "cell_type": "code",
   "execution_count": null,
   "id": "70857c1c",
   "metadata": {},
   "outputs": [],
   "source": [
    "#mistys example\n",
    "def is_vowel1(string):\n",
    "    return bool(re.search(r'^[aeiou]$', string, re.IGNORECASE))"
   ]
  },
  {
   "cell_type": "code",
   "execution_count": 2,
   "id": "9e4f4292",
   "metadata": {},
   "outputs": [],
   "source": [
    "def is_vowel(string):\n",
    "    pattern = r'^[aeiou]$'\n",
    "    return re.search(pattern, string, re.IGNORECASE) is not None"
   ]
  },
  {
   "cell_type": "code",
   "execution_count": 9,
   "id": "a533c489",
   "metadata": {},
   "outputs": [
    {
     "data": {
      "text/plain": [
       "False"
      ]
     },
     "execution_count": 9,
     "metadata": {},
     "output_type": "execute_result"
    }
   ],
   "source": [
    "# Test 'Andrew'\n",
    "is_vowel('Andrew')"
   ]
  },
  {
   "cell_type": "code",
   "execution_count": 10,
   "id": "b523b90f",
   "metadata": {},
   "outputs": [
    {
     "data": {
      "text/plain": [
       "True"
      ]
     },
     "execution_count": 10,
     "metadata": {},
     "output_type": "execute_result"
    }
   ],
   "source": [
    "# Test 'A'\n",
    "is_vowel('A')"
   ]
  },
  {
   "cell_type": "code",
   "execution_count": 11,
   "id": "ebef8bc8",
   "metadata": {},
   "outputs": [
    {
     "data": {
      "text/plain": [
       "True"
      ]
     },
     "execution_count": 11,
     "metadata": {},
     "output_type": "execute_result"
    }
   ],
   "source": [
    "# Test 'a'\n",
    "is_vowel('a')"
   ]
  },
  {
   "cell_type": "code",
   "execution_count": 13,
   "id": "42b53f8f",
   "metadata": {},
   "outputs": [
    {
     "data": {
      "text/plain": [
       "False"
      ]
     },
     "execution_count": 13,
     "metadata": {},
     "output_type": "execute_result"
    }
   ],
   "source": [
    "# Test 'b'\n",
    "is_vowel('b')"
   ]
  },
  {
   "cell_type": "markdown",
   "id": "bfa8619f",
   "metadata": {},
   "source": [
    "# 2.\n",
    "Write a function named is_valid_username that accepts a string as input. A valid username starts with a lowercase letter, and only consists of lowercase letters, numbers, or the _ character. It should also be no longer than 32 characters. The function should return either True or False depending on whether the passed string is a valid username."
   ]
  },
  {
   "cell_type": "code",
   "execution_count": null,
   "id": "3e635ea6",
   "metadata": {},
   "outputs": [],
   "source": [
    "#mistys example\n",
    "def is_valid_username1(string):\n",
    "    return bool(re.search(r'^[a-z][a-z0-9_]{0,31}$', string))"
   ]
  },
  {
   "cell_type": "code",
   "execution_count": 3,
   "id": "df56b208",
   "metadata": {},
   "outputs": [],
   "source": [
    "def is_valid_username(username):\n",
    "    pattern = r'^[a-z][a-z0-9_]{0,31}$'\n",
    "    return re.match(pattern, username) is not None"
   ]
  },
  {
   "cell_type": "code",
   "execution_count": 4,
   "id": "6f94a459",
   "metadata": {},
   "outputs": [
    {
     "data": {
      "text/plain": [
       "False"
      ]
     },
     "execution_count": 4,
     "metadata": {},
     "output_type": "execute_result"
    }
   ],
   "source": [
    "# Test on 'aaaaaaaaaaaaaaaaaaaaaaaaaaaaaaaaa'\n",
    "is_valid_username('aaaaaaaaaaaaaaaaaaaaaaaaaaaaaaaaa')"
   ]
  },
  {
   "cell_type": "code",
   "execution_count": 5,
   "id": "d6a2b057",
   "metadata": {},
   "outputs": [
    {
     "data": {
      "text/plain": [
       "True"
      ]
     },
     "execution_count": 5,
     "metadata": {},
     "output_type": "execute_result"
    }
   ],
   "source": [
    "# Test on 'codeup'\n",
    "is_valid_username('codeup')\n"
   ]
  },
  {
   "cell_type": "code",
   "execution_count": 6,
   "id": "192c99c1",
   "metadata": {},
   "outputs": [
    {
     "data": {
      "text/plain": [
       "False"
      ]
     },
     "execution_count": 6,
     "metadata": {},
     "output_type": "execute_result"
    }
   ],
   "source": [
    "# Test on 'Codeup'\n",
    "is_valid_username('Codeup')"
   ]
  },
  {
   "cell_type": "code",
   "execution_count": 7,
   "id": "96b04dd1",
   "metadata": {},
   "outputs": [
    {
     "data": {
      "text/plain": [
       "True"
      ]
     },
     "execution_count": 7,
     "metadata": {},
     "output_type": "execute_result"
    }
   ],
   "source": [
    "# Test on 'codeup123'\n",
    "is_valid_username('codeup123')"
   ]
  },
  {
   "cell_type": "code",
   "execution_count": 8,
   "id": "9c1f5bb3",
   "metadata": {},
   "outputs": [
    {
     "data": {
      "text/plain": [
       "False"
      ]
     },
     "execution_count": 8,
     "metadata": {},
     "output_type": "execute_result"
    }
   ],
   "source": [
    "# Test on '1codeup'\n",
    "is_valid_username('1codeup')"
   ]
  },
  {
   "cell_type": "markdown",
   "id": "311b582d",
   "metadata": {},
   "source": [
    "# 3.\n",
    "Write a regular expression to capture phone numbers. It should match all of the following:"
   ]
  },
  {
   "cell_type": "code",
   "execution_count": 143,
   "id": "ac25ea33",
   "metadata": {},
   "outputs": [
    {
     "data": {
      "text/plain": [
       "[('', '210', '867', '5309')]"
      ]
     },
     "execution_count": 143,
     "metadata": {},
     "output_type": "execute_result"
    }
   ],
   "source": [
    "phone_number = '(210) 867 5309'\n",
    "regexp = r\"(\\d{1,2}\\s)?\\(?(\\d{,3})\\)?[-.\\s]?(\\d{3})[-.\\s]?(\\d{4})\"\n",
    "\n",
    "re.findall(regexp, phone_number)"
   ]
  },
  {
   "cell_type": "code",
   "execution_count": 142,
   "id": "26a64e4e",
   "metadata": {},
   "outputs": [
    {
     "data": {
      "text/plain": [
       "[('1 ', '210', '867', '5309')]"
      ]
     },
     "execution_count": 142,
     "metadata": {},
     "output_type": "execute_result"
    }
   ],
   "source": [
    "phone_number = '+1 210.867.5309'\n",
    "regexp = r\"(\\d{1,2}\\s)?\\(?(\\d{,3})\\)?[-.\\s]?(\\d{3})[-.\\s]?(\\d{4})\"\n",
    "\n",
    "re.findall(regexp, phone_number)"
   ]
  },
  {
   "cell_type": "code",
   "execution_count": 156,
   "id": "0fb6bdc2",
   "metadata": {},
   "outputs": [
    {
     "data": {
      "text/plain": [
       "[('', '', '867', '5309')]"
      ]
     },
     "execution_count": 156,
     "metadata": {},
     "output_type": "execute_result"
    }
   ],
   "source": [
    "phone_number = '867-5309'\n",
    "regexp = r\"(\\d{1,2}\\s)?\\(?(\\d{,3})\\)?[-.\\s]?(\\d{3})[-.\\s]?(\\d{4})\"\n",
    "\n",
    "re.findall(regexp, phone_number)"
   ]
  },
  {
   "cell_type": "code",
   "execution_count": 171,
   "id": "275c097d",
   "metadata": {},
   "outputs": [
    {
     "data": {
      "text/plain": [
       "[('', '210', '867', '5309')]"
      ]
     },
     "execution_count": 171,
     "metadata": {},
     "output_type": "execute_result"
    }
   ],
   "source": [
    "phone_number = '210-867-5309'\n",
    "regexp = r\"(\\d{1,2}\\s)?\\(?(\\d{,3})\\)?[-.\\s]?(\\d{3})[-.\\s]?(\\d{4})\"\n",
    "\n",
    "re.findall(regexp, phone_number)"
   ]
  },
  {
   "cell_type": "code",
   "execution_count": 4,
   "id": "688caeb1",
   "metadata": {},
   "outputs": [
    {
     "data": {
      "text/plain": [
       "['(210) 867 5309', '+1 210.867.5309', '867-5309', '210-867-5309']"
      ]
     },
     "execution_count": 4,
     "metadata": {},
     "output_type": "execute_result"
    }
   ],
   "source": [
    "numbers = ['(210) 867 5309',\n",
    "          '+1 210.867.5309',\n",
    "          '867-5309',\n",
    "          '210-867-5309']\n",
    "numbers"
   ]
  },
  {
   "cell_type": "code",
   "execution_count": 14,
   "id": "81eed43f",
   "metadata": {},
   "outputs": [
    {
     "name": "stdout",
     "output_type": "stream",
     "text": [
      "['(210) 867 5309']\n",
      "['+1 210.867.5309']\n",
      "['867-5309']\n",
      "['210-867-5309']\n"
     ]
    }
   ],
   "source": [
    "#misty example\n",
    "for number in numbers:\n",
    "    print(re.findall(r'.+\\d+.?.\\d+.\\d+$',number))"
   ]
  },
  {
   "cell_type": "code",
   "execution_count": 160,
   "id": "4b6009fb",
   "metadata": {},
   "outputs": [],
   "source": [
    "def capture_phone_number(phone_number):\n",
    "    pattern = r\"(\\+\\d{1,2}\\s)?\\(?(\\d{,3})\\)?[-.\\s]?(\\d{3})[-.\\s]?(\\d{4})\"\n",
    "    match = re.search(pattern, phone_number)\n",
    "    if match:\n",
    "        return f\"({match.group(2)}) {match.group(3)}-{match.group(4)}\"\n",
    "    return None\n"
   ]
  },
  {
   "cell_type": "code",
   "execution_count": 167,
   "id": "cb165add",
   "metadata": {},
   "outputs": [
    {
     "data": {
      "text/plain": [
       "'(210)867-5309'"
      ]
     },
     "execution_count": 167,
     "metadata": {},
     "output_type": "execute_result"
    }
   ],
   "source": [
    "phone_number = '(210) 867 5309'\n",
    "capture_phone_number(phone_number)"
   ]
  },
  {
   "cell_type": "code",
   "execution_count": 168,
   "id": "cc8f5f83",
   "metadata": {},
   "outputs": [
    {
     "data": {
      "text/plain": [
       "'(210)867-5309'"
      ]
     },
     "execution_count": 168,
     "metadata": {},
     "output_type": "execute_result"
    }
   ],
   "source": [
    "phone_number = '+1 210.867.5309'\n",
    "capture_phone_number(phone_number)"
   ]
  },
  {
   "cell_type": "code",
   "execution_count": 169,
   "id": "643373cf",
   "metadata": {},
   "outputs": [
    {
     "data": {
      "text/plain": [
       "'()867-5309'"
      ]
     },
     "execution_count": 169,
     "metadata": {},
     "output_type": "execute_result"
    }
   ],
   "source": [
    "phone_number = '867-5309'\n",
    "capture_phone_number(phone_number)"
   ]
  },
  {
   "cell_type": "code",
   "execution_count": 170,
   "id": "554c3352",
   "metadata": {},
   "outputs": [
    {
     "data": {
      "text/plain": [
       "'(210)867-5309'"
      ]
     },
     "execution_count": 170,
     "metadata": {},
     "output_type": "execute_result"
    }
   ],
   "source": [
    "phone_number = '210-867-5309'\n",
    "capture_phone_number(phone_number)"
   ]
  },
  {
   "cell_type": "markdown",
   "id": "f5db7870",
   "metadata": {},
   "source": [
    "# 4.\n",
    "Use regular expressions to convert the dates below to the standardized year-month-day format."
   ]
  },
  {
   "cell_type": "code",
   "execution_count": 15,
   "id": "5f3e3019",
   "metadata": {},
   "outputs": [
    {
     "data": {
      "text/plain": [
       "['02/04/19',\n",
       " '02/05/19',\n",
       " '02/06/19',\n",
       " '02/07/19',\n",
       " '02/08/19',\n",
       " '02/09/19',\n",
       " '02/10/19']"
      ]
     },
     "execution_count": 15,
     "metadata": {},
     "output_type": "execute_result"
    }
   ],
   "source": [
    "#misty example\n",
    "dates = ['02/04/19', \n",
    "         '02/05/19', \n",
    "         '02/06/19', \n",
    "         '02/07/19', \n",
    "         '02/08/19', \n",
    "         '02/09/19', \n",
    "         '02/10/19']\n",
    "\n",
    "dates"
   ]
  },
  {
   "cell_type": "code",
   "execution_count": 21,
   "id": "f61c6cad",
   "metadata": {},
   "outputs": [
    {
     "name": "stdout",
     "output_type": "stream",
     "text": [
      "2019-02-04\n",
      "2019-02-05\n",
      "2019-02-06\n",
      "2019-02-07\n",
      "2019-02-08\n",
      "2019-02-09\n",
      "2019-02-10\n"
     ]
    }
   ],
   "source": [
    "regexp = r'(\\d{2})/(\\d{2})/(\\d{2})'\n",
    "\n",
    "for date in dates:\n",
    "#    print(re.findall(regexp, date))\n",
    "     print(re.sub(regexp, r'20\\3-\\1-\\2', date))"
   ]
  },
  {
   "cell_type": "code",
   "execution_count": null,
   "id": "f32ab9fe",
   "metadata": {},
   "outputs": [],
   "source": []
  },
  {
   "cell_type": "code",
   "execution_count": 67,
   "id": "fbc7277a",
   "metadata": {},
   "outputs": [
    {
     "name": "stdout",
     "output_type": "stream",
     "text": [
      "[('02', '04', '19')]\n"
     ]
    }
   ],
   "source": [
    "# Figure out how to split the dates into parts\n",
    "dates = '02/04/19'\n",
    "regexp = r'(\\d{2})/(\\d{2})/(\\d{2})'\n",
    "\n",
    "matches = re.findall(regexp, dates)\n",
    "print(matches)"
   ]
  },
  {
   "cell_type": "code",
   "execution_count": 72,
   "id": "a807ab55",
   "metadata": {},
   "outputs": [
    {
     "name": "stdout",
     "output_type": "stream",
     "text": [
      "2019-02-04\n"
     ]
    }
   ],
   "source": [
    "# substitute the parts from the regexp into the new r'20\\3-\\1-\\2'\n",
    "dates = '02/04/19'\n",
    "regexp = r'(\\d{2})/(\\d{2})/(\\d{2})'\n",
    "\n",
    "matches = re.sub(regexp,r'20\\3-\\1-\\2', dates)\n",
    "print(matches)"
   ]
  },
  {
   "cell_type": "code",
   "execution_count": 15,
   "id": "60ad607e",
   "metadata": {},
   "outputs": [],
   "source": [
    "# Create function to standarize dates\n",
    "def standardize_dates(dates):\n",
    "    pattern = r'(\\d{2})/(\\d{2})/(\\d{2})'\n",
    "    return [re.sub(pattern, r'20\\3-\\1-\\2', date) for date in dates]"
   ]
  },
  {
   "cell_type": "code",
   "execution_count": 16,
   "id": "33eb5c1c",
   "metadata": {},
   "outputs": [
    {
     "name": "stdout",
     "output_type": "stream",
     "text": [
      "['2019-02-04', '2019-02-05', '2019-02-06', '2019-02-07', '2019-02-08', '2019-02-09', '2019-02-10']\n"
     ]
    }
   ],
   "source": [
    "# Test standardize_dates function\n",
    "dates = ['02/04/19', '02/05/19', '02/06/19', '02/07/19', '02/08/19', '02/09/19', '02/10/19']\n",
    "print(standardize_dates(dates))"
   ]
  },
  {
   "cell_type": "markdown",
   "id": "b965cf50",
   "metadata": {},
   "source": [
    "# 5.\n",
    "Write a regex to extract the various parts of these logfile lines:"
   ]
  },
  {
   "cell_type": "markdown",
   "id": "49ee7d79",
   "metadata": {},
   "source": [
    "- GET /api/v1/sales?page=86 [16/Apr/2019:193452+0000] HTTP/1.1 {200} 510348 \"python-requests/2.21.0\" 97.105.19.58\n",
    "- POST /users_accounts/file-upload [16/Apr/2019:193452+0000] HTTP/1.1 {201} 42 \"User-Agent: Mozilla/5.0 (X11; Fedora; Fedora; Linux x86_64) AppleWebKit/537.36 (KHTML, like Gecko) Chrome/73.0.3683.86 Safari/537.36\" 97.105.19.58\n",
    "- GET /api/v1/items?page=3 [16/Apr/2019:193453+0000] HTTP/1.1 {429} 3561 \"python-requests/2.21.0\" 97.105.19.58\n"
   ]
  },
  {
   "cell_type": "code",
   "execution_count": null,
   "id": "8e73e442",
   "metadata": {},
   "outputs": [],
   "source": [
    "#mistys example\n",
    "r'([A-Z]+)\\s(.+?)\\s\\[(.+)\\]\\s(.+?)\\s(.+?)\\s(\\d+)\\s(\".+\")\\s(.+)'"
   ]
  },
  {
   "cell_type": "code",
   "execution_count": 107,
   "id": "3c903a13",
   "metadata": {},
   "outputs": [],
   "source": [
    "# Create function to extract log parts\n",
    "def extract_logfile_parts(log_lines):\n",
    "    pattern = r'^(GET|POST)\\s([^ ]+)\\s\\[([^\\]]+)\\]\\sHTTP/1\\.1\\s\\{(\\d+)\\}\\s(\\d+)\\s(\"[^\"]*\")\\s([\\d.]+)$'\n",
    "    parts = []\n",
    "    for line in log_lines:\n",
    "        match = re.match(pattern, line)\n",
    "        if match:\n",
    "            parts.append({\n",
    "                'method': match.group(1),\n",
    "                'path': match.group(2),\n",
    "                'timestamp': match.group(3),\n",
    "                'status': match.group(4),\n",
    "                'response_size': match.group(5),\n",
    "                'response_method': match.group(6),\n",
    "                'ip_address': match.group(7)\n",
    "            })\n",
    "    return parts\n"
   ]
  },
  {
   "cell_type": "code",
   "execution_count": 108,
   "id": "65000e3d",
   "metadata": {},
   "outputs": [
    {
     "data": {
      "text/plain": [
       "[{'method': 'GET',\n",
       "  'path': '/api/v1/sales?page=86',\n",
       "  'timestamp': '16/Apr/2019:193452+0000',\n",
       "  'status': '200',\n",
       "  'response_size': '510348',\n",
       "  'response_method': '\"python-requests/2.21.0\"',\n",
       "  'ip_address': '97.105.19.58'},\n",
       " {'method': 'POST',\n",
       "  'path': '/users_accounts/file-upload',\n",
       "  'timestamp': '16/Apr/2019:193452+0000',\n",
       "  'status': '201',\n",
       "  'response_size': '42',\n",
       "  'response_method': '\"User-Agent: Mozilla/5.0 (X11; Fedora; Fedora; Linux x86_64) AppleWebKit/537.36 (KHTML, like Gecko) Chrome/73.0.3683.86 Safari/537.36\"',\n",
       "  'ip_address': '97.105.19.58'},\n",
       " {'method': 'GET',\n",
       "  'path': '/api/v1/items?page=3',\n",
       "  'timestamp': '16/Apr/2019:193453+0000',\n",
       "  'status': '429',\n",
       "  'response_size': '3561',\n",
       "  'response_method': '\"python-requests/2.21.0\"',\n",
       "  'ip_address': '97.105.19.58'}]"
      ]
     },
     "execution_count": 108,
     "metadata": {},
     "output_type": "execute_result"
    }
   ],
   "source": [
    "# Test extract_logfile_parts function\n",
    "log_lines = [\n",
    "    'GET /api/v1/sales?page=86 [16/Apr/2019:193452+0000] HTTP/1.1 {200} 510348 \"python-requests/2.21.0\" 97.105.19.58',\n",
    "    'POST /users_accounts/file-upload [16/Apr/2019:193452+0000] HTTP/1.1 {201} 42 \"User-Agent: Mozilla/5.0 (X11; Fedora; Fedora; Linux x86_64) AppleWebKit/537.36 (KHTML, like Gecko) Chrome/73.0.3683.86 Safari/537.36\" 97.105.19.58',\n",
    "    'GET /api/v1/items?page=3 [16/Apr/2019:193453+0000] HTTP/1.1 {429} 3561 \"python-requests/2.21.0\" 97.105.19.58'\n",
    "]\n",
    "parts = extract_logfile_parts(log_lines)\n",
    "parts"
   ]
  }
 ],
 "metadata": {
  "kernelspec": {
   "display_name": "Python 3 (ipykernel)",
   "language": "python",
   "name": "python3"
  },
  "language_info": {
   "codemirror_mode": {
    "name": "ipython",
    "version": 3
   },
   "file_extension": ".py",
   "mimetype": "text/x-python",
   "name": "python",
   "nbconvert_exporter": "python",
   "pygments_lexer": "ipython3",
   "version": "3.9.13"
  }
 },
 "nbformat": 4,
 "nbformat_minor": 5
}
