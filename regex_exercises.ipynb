{
 "cells": [
  {
   "cell_type": "code",
   "execution_count": 1,
   "id": "c2c1c817",
   "metadata": {},
   "outputs": [],
   "source": [
    "import pandas as pd\n",
    "import numpy as np\n",
    "\n",
    "import re"
   ]
  },
  {
   "cell_type": "markdown",
   "id": "6a3bde7f",
   "metadata": {},
   "source": [
    "# 1.\n",
    "Write a function named is_vowel. It should accept a string as input and use a regular expression to determine if the passed string is a vowel. While not explicity mentioned in the lesson, you can treat the result of re.search as a boolean value that indicates whether or not the regular expression matches the given string."
   ]
  },
  {
   "cell_type": "code",
   "execution_count": 2,
   "id": "d4a75bab",
   "metadata": {},
   "outputs": [],
   "source": [
    "def is_vowel(string):\n",
    "    pattern = r'^[aeiou]$'\n",
    "    return re.search(pattern, string, re.IGNORECASE) is not None"
   ]
  },
  {
   "cell_type": "code",
   "execution_count": 9,
   "id": "3184de49",
   "metadata": {},
   "outputs": [
    {
     "data": {
      "text/plain": [
       "False"
      ]
     },
     "execution_count": 9,
     "metadata": {},
     "output_type": "execute_result"
    }
   ],
   "source": [
    "# Test 'Andrew'\n",
    "is_vowel('Andrew')"
   ]
  },
  {
   "cell_type": "code",
   "execution_count": 10,
   "id": "fe76c6dc",
   "metadata": {},
   "outputs": [
    {
     "data": {
      "text/plain": [
       "True"
      ]
     },
     "execution_count": 10,
     "metadata": {},
     "output_type": "execute_result"
    }
   ],
   "source": [
    "# Test 'A'\n",
    "is_vowel('A')"
   ]
  },
  {
   "cell_type": "code",
   "execution_count": 11,
   "id": "8121befb",
   "metadata": {},
   "outputs": [
    {
     "data": {
      "text/plain": [
       "True"
      ]
     },
     "execution_count": 11,
     "metadata": {},
     "output_type": "execute_result"
    }
   ],
   "source": [
    "# Test 'a'\n",
    "is_vowel('a')"
   ]
  },
  {
   "cell_type": "code",
   "execution_count": 13,
   "id": "3ceb9b81",
   "metadata": {},
   "outputs": [
    {
     "data": {
      "text/plain": [
       "False"
      ]
     },
     "execution_count": 13,
     "metadata": {},
     "output_type": "execute_result"
    }
   ],
   "source": [
    "# Test 'b'\n",
    "is_vowel('b')"
   ]
  },
  {
   "cell_type": "markdown",
   "id": "cee5ef76",
   "metadata": {},
   "source": [
    "# 2.\n",
    "Write a function named is_valid_username that accepts a string as input. A valid username starts with a lowercase letter, and only consists of lowercase letters, numbers, or the _ character. It should also be no longer than 32 characters. The function should return either True or False depending on whether the passed string is a valid username."
   ]
  },
  {
   "cell_type": "code",
   "execution_count": 3,
   "id": "16279c3a",
   "metadata": {},
   "outputs": [],
   "source": [
    "def is_valid_username(username):\n",
    "    pattern = r'^[a-z][a-z0-9_]{0,31}$'\n",
    "    return re.match(pattern, username) is not None"
   ]
  },
  {
   "cell_type": "code",
   "execution_count": 4,
   "id": "55e169a6",
   "metadata": {},
   "outputs": [
    {
     "data": {
      "text/plain": [
       "False"
      ]
     },
     "execution_count": 4,
     "metadata": {},
     "output_type": "execute_result"
    }
   ],
   "source": [
    "# Test on 'aaaaaaaaaaaaaaaaaaaaaaaaaaaaaaaaa'\n",
    "is_valid_username('aaaaaaaaaaaaaaaaaaaaaaaaaaaaaaaaa')"
   ]
  },
  {
   "cell_type": "code",
   "execution_count": 5,
   "id": "3f2ce583",
   "metadata": {},
   "outputs": [
    {
     "data": {
      "text/plain": [
       "True"
      ]
     },
     "execution_count": 5,
     "metadata": {},
     "output_type": "execute_result"
    }
   ],
   "source": [
    "# Test on 'codeup'\n",
    "is_valid_username('codeup')\n"
   ]
  },
  {
   "cell_type": "code",
   "execution_count": 6,
   "id": "d7a5df27",
   "metadata": {},
   "outputs": [
    {
     "data": {
      "text/plain": [
       "False"
      ]
     },
     "execution_count": 6,
     "metadata": {},
     "output_type": "execute_result"
    }
   ],
   "source": [
    "# Test on 'Codeup'\n",
    "is_valid_username('Codeup')"
   ]
  },
  {
   "cell_type": "code",
   "execution_count": 7,
   "id": "bb8ff751",
   "metadata": {},
   "outputs": [
    {
     "data": {
      "text/plain": [
       "True"
      ]
     },
     "execution_count": 7,
     "metadata": {},
     "output_type": "execute_result"
    }
   ],
   "source": [
    "# Test on 'codeup123'\n",
    "is_valid_username('codeup123')"
   ]
  },
  {
   "cell_type": "code",
   "execution_count": 8,
   "id": "d7853155",
   "metadata": {},
   "outputs": [
    {
     "data": {
      "text/plain": [
       "False"
      ]
     },
     "execution_count": 8,
     "metadata": {},
     "output_type": "execute_result"
    }
   ],
   "source": [
    "# Test on '1codeup'\n",
    "is_valid_username('1codeup')"
   ]
  },
  {
   "cell_type": "markdown",
   "id": "28309eca",
   "metadata": {},
   "source": [
    "# 3.\n",
    "Write a regular expression to capture phone numbers. It should match all of the following:"
   ]
  },
  {
   "cell_type": "code",
   "execution_count": 115,
   "id": "2f5f57e9",
   "metadata": {},
   "outputs": [
    {
     "data": {
      "text/plain": [
       "[('', '210', '867', '5309')]"
      ]
     },
     "execution_count": 115,
     "metadata": {},
     "output_type": "execute_result"
    }
   ],
   "source": [
    "phone_number = '(210) 867 5309'\n",
    "regexp = r\"(\\d{1,2}\\s)?\\(?(\\d{3})\\)?[-.\\s]?(\\d{3})[-.\\s]?(\\d{4})\"\n",
    "\n",
    "re.findall(regexp, phone_number)"
   ]
  },
  {
   "cell_type": "code",
   "execution_count": 116,
   "id": "52d60457",
   "metadata": {},
   "outputs": [
    {
     "data": {
      "text/plain": [
       "[('1 ', '210', '867', '5309')]"
      ]
     },
     "execution_count": 116,
     "metadata": {},
     "output_type": "execute_result"
    }
   ],
   "source": [
    "phone_number = '+1 210.867.5309'\n",
    "regexp = r\"(\\d{1,2}\\s)?\\(?(\\d{3})\\)?[-.\\s]?(\\d{3})[-.\\s]?(\\d{4})\"\n",
    "\n",
    "re.findall(regexp, phone_number)"
   ]
  },
  {
   "cell_type": "code",
   "execution_count": 117,
   "id": "bb8039b2",
   "metadata": {},
   "outputs": [
    {
     "data": {
      "text/plain": [
       "[]"
      ]
     },
     "execution_count": 117,
     "metadata": {},
     "output_type": "execute_result"
    }
   ],
   "source": [
    "phone_number = '867-5309'\n",
    "regexp = r\"(\\d{1,2}\\s)?\\(?(\\d{3})\\)?[-.\\s]?(\\d{3})[-.\\s]?(\\d{4})\"\n",
    "\n",
    "re.findall(regexp, phone_number)"
   ]
  },
  {
   "cell_type": "code",
   "execution_count": 118,
   "id": "ec99a567",
   "metadata": {},
   "outputs": [
    {
     "data": {
      "text/plain": [
       "[('', '210', '867', '5309')]"
      ]
     },
     "execution_count": 118,
     "metadata": {},
     "output_type": "execute_result"
    }
   ],
   "source": [
    "phone_number = '210-867-5309'\n",
    "regexp = r\"(\\d{1,2}\\s)?\\(?(\\d{3})\\)?[-.\\s]?(\\d{3})[-.\\s]?(\\d{4})\"\n",
    "\n",
    "re.findall(regexp, phone_number)"
   ]
  },
  {
   "cell_type": "code",
   "execution_count": 105,
   "id": "b4c4b9ac",
   "metadata": {},
   "outputs": [],
   "source": [
    "def capture_phone_number(phone_number):\n",
    "    pattern = r\"(\\+\\d{1,2}\\s)?\\(?(\\d{3})\\)?[-.\\s]?(\\d{3})[-.\\s]?(\\d{4})\"\n",
    "    match = re.search(pattern, phone_number)\n",
    "    if match:\n",
    "        return f\"({match.group(2)}) {match.group(3)}-{match.group(4)}\"\n",
    "    return None\n"
   ]
  },
  {
   "cell_type": "code",
   "execution_count": 28,
   "id": "4b4c8638",
   "metadata": {},
   "outputs": [
    {
     "data": {
      "text/plain": [
       "'(210) 867-5309'"
      ]
     },
     "execution_count": 28,
     "metadata": {},
     "output_type": "execute_result"
    }
   ],
   "source": [
    "phone_number = '(210) 867 5309'\n",
    "capture_phone_number(phone_number)"
   ]
  },
  {
   "cell_type": "code",
   "execution_count": 30,
   "id": "d3100f79",
   "metadata": {},
   "outputs": [
    {
     "data": {
      "text/plain": [
       "'(210) 867-5309'"
      ]
     },
     "execution_count": 30,
     "metadata": {},
     "output_type": "execute_result"
    }
   ],
   "source": [
    "phone_number = '+1 210.867.5309'\n",
    "capture_phone_number(phone_number)"
   ]
  },
  {
   "cell_type": "code",
   "execution_count": 106,
   "id": "b34a45cb",
   "metadata": {},
   "outputs": [],
   "source": [
    "phone_number = '867-5309'\n",
    "capture_phone_number(phone_number)"
   ]
  },
  {
   "cell_type": "code",
   "execution_count": 33,
   "id": "acfebda0",
   "metadata": {},
   "outputs": [
    {
     "data": {
      "text/plain": [
       "'(210) 867-5309'"
      ]
     },
     "execution_count": 33,
     "metadata": {},
     "output_type": "execute_result"
    }
   ],
   "source": [
    "phone_number = '210-867-5309'\n",
    "capture_phone_number(phone_number)"
   ]
  },
  {
   "cell_type": "markdown",
   "id": "cd39bd13",
   "metadata": {},
   "source": [
    "# 4.\n",
    "Use regular expressions to convert the dates below to the standardized year-month-day format."
   ]
  },
  {
   "cell_type": "code",
   "execution_count": 67,
   "id": "02198bf4",
   "metadata": {},
   "outputs": [
    {
     "name": "stdout",
     "output_type": "stream",
     "text": [
      "[('02', '04', '19')]\n"
     ]
    }
   ],
   "source": [
    "# Figure out how to split the dates into parts\n",
    "dates = '02/04/19'\n",
    "regexp = r'(\\d{2})/(\\d{2})/(\\d{2})'\n",
    "\n",
    "matches = re.findall(regexp, dates)\n",
    "print(matches)"
   ]
  },
  {
   "cell_type": "code",
   "execution_count": 72,
   "id": "6ce42130",
   "metadata": {},
   "outputs": [
    {
     "name": "stdout",
     "output_type": "stream",
     "text": [
      "2019-02-04\n"
     ]
    }
   ],
   "source": [
    "# substitute the parts from the regexp into the new r'20\\3-\\1-\\2'\n",
    "dates = '02/04/19'\n",
    "regexp = r'(\\d{2})/(\\d{2})/(\\d{2})'\n",
    "\n",
    "matches = re.sub(regexp,r'20\\3-\\1-\\2', dates)\n",
    "print(matches)"
   ]
  },
  {
   "cell_type": "code",
   "execution_count": 15,
   "id": "16e14164",
   "metadata": {},
   "outputs": [],
   "source": [
    "# Create function to standarize dates\n",
    "def standardize_dates(dates):\n",
    "    pattern = r'(\\d{2})/(\\d{2})/(\\d{2})'\n",
    "    return [re.sub(pattern, r'20\\3-\\1-\\2', date) for date in dates]"
   ]
  },
  {
   "cell_type": "code",
   "execution_count": 16,
   "id": "552bc1bc",
   "metadata": {},
   "outputs": [
    {
     "name": "stdout",
     "output_type": "stream",
     "text": [
      "['2019-02-04', '2019-02-05', '2019-02-06', '2019-02-07', '2019-02-08', '2019-02-09', '2019-02-10']\n"
     ]
    }
   ],
   "source": [
    "# Test standardize_dates function\n",
    "dates = ['02/04/19', '02/05/19', '02/06/19', '02/07/19', '02/08/19', '02/09/19', '02/10/19']\n",
    "print(standardize_dates(dates))"
   ]
  },
  {
   "cell_type": "markdown",
   "id": "7e3ea48b",
   "metadata": {},
   "source": [
    "# 5.\n",
    "Write a regex to extract the various parts of these logfile lines:"
   ]
  },
  {
   "cell_type": "markdown",
   "id": "00c074cf",
   "metadata": {},
   "source": [
    "- GET /api/v1/sales?page=86 [16/Apr/2019:193452+0000] HTTP/1.1 {200} 510348 \"python-requests/2.21.0\" 97.105.19.58\n",
    "- POST /users_accounts/file-upload [16/Apr/2019:193452+0000] HTTP/1.1 {201} 42 \"User-Agent: Mozilla/5.0 (X11; Fedora; Fedora; Linux x86_64) AppleWebKit/537.36 (KHTML, like Gecko) Chrome/73.0.3683.86 Safari/537.36\" 97.105.19.58\n",
    "- GET /api/v1/items?page=3 [16/Apr/2019:193453+0000] HTTP/1.1 {429} 3561 \"python-requests/2.21.0\" 97.105.19.58\n"
   ]
  },
  {
   "cell_type": "code",
   "execution_count": 107,
   "id": "8415a6c3",
   "metadata": {},
   "outputs": [],
   "source": [
    "# Create function to extract log parts\n",
    "def extract_logfile_parts(log_lines):\n",
    "    pattern = r'^(GET|POST)\\s([^ ]+)\\s\\[([^\\]]+)\\]\\sHTTP/1\\.1\\s\\{(\\d+)\\}\\s(\\d+)\\s(\"[^\"]*\")\\s([\\d.]+)$'\n",
    "    parts = []\n",
    "    for line in log_lines:\n",
    "        match = re.match(pattern, line)\n",
    "        if match:\n",
    "            parts.append({\n",
    "                'method': match.group(1),\n",
    "                'path': match.group(2),\n",
    "                'timestamp': match.group(3),\n",
    "                'status': match.group(4),\n",
    "                'response_size': match.group(5),\n",
    "                'response_method': match.group(6),\n",
    "                'ip_address': match.group(7)\n",
    "            })\n",
    "    return parts\n"
   ]
  },
  {
   "cell_type": "code",
   "execution_count": 108,
   "id": "d65dbfdb",
   "metadata": {},
   "outputs": [
    {
     "data": {
      "text/plain": [
       "[{'method': 'GET',\n",
       "  'path': '/api/v1/sales?page=86',\n",
       "  'timestamp': '16/Apr/2019:193452+0000',\n",
       "  'status': '200',\n",
       "  'response_size': '510348',\n",
       "  'response_method': '\"python-requests/2.21.0\"',\n",
       "  'ip_address': '97.105.19.58'},\n",
       " {'method': 'POST',\n",
       "  'path': '/users_accounts/file-upload',\n",
       "  'timestamp': '16/Apr/2019:193452+0000',\n",
       "  'status': '201',\n",
       "  'response_size': '42',\n",
       "  'response_method': '\"User-Agent: Mozilla/5.0 (X11; Fedora; Fedora; Linux x86_64) AppleWebKit/537.36 (KHTML, like Gecko) Chrome/73.0.3683.86 Safari/537.36\"',\n",
       "  'ip_address': '97.105.19.58'},\n",
       " {'method': 'GET',\n",
       "  'path': '/api/v1/items?page=3',\n",
       "  'timestamp': '16/Apr/2019:193453+0000',\n",
       "  'status': '429',\n",
       "  'response_size': '3561',\n",
       "  'response_method': '\"python-requests/2.21.0\"',\n",
       "  'ip_address': '97.105.19.58'}]"
      ]
     },
     "execution_count": 108,
     "metadata": {},
     "output_type": "execute_result"
    }
   ],
   "source": [
    "# Test extract_logfile_parts function\n",
    "log_lines = [\n",
    "    'GET /api/v1/sales?page=86 [16/Apr/2019:193452+0000] HTTP/1.1 {200} 510348 \"python-requests/2.21.0\" 97.105.19.58',\n",
    "    'POST /users_accounts/file-upload [16/Apr/2019:193452+0000] HTTP/1.1 {201} 42 \"User-Agent: Mozilla/5.0 (X11; Fedora; Fedora; Linux x86_64) AppleWebKit/537.36 (KHTML, like Gecko) Chrome/73.0.3683.86 Safari/537.36\" 97.105.19.58',\n",
    "    'GET /api/v1/items?page=3 [16/Apr/2019:193453+0000] HTTP/1.1 {429} 3561 \"python-requests/2.21.0\" 97.105.19.58'\n",
    "]\n",
    "parts = extract_logfile_parts(log_lines)\n",
    "parts"
   ]
  }
 ],
 "metadata": {
  "kernelspec": {
   "display_name": "Python 3 (ipykernel)",
   "language": "python",
   "name": "python3"
  },
  "language_info": {
   "codemirror_mode": {
    "name": "ipython",
    "version": 3
   },
   "file_extension": ".py",
   "mimetype": "text/x-python",
   "name": "python",
   "nbconvert_exporter": "python",
   "pygments_lexer": "ipython3",
   "version": "3.9.13"
  }
 },
 "nbformat": 4,
 "nbformat_minor": 5
}
